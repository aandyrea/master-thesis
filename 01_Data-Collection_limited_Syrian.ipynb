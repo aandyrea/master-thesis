{
 "cells": [
  {
   "cell_type": "markdown",
   "id": "17495aeb-09b5-4db5-a648-62e49c964fca",
   "metadata": {},
   "source": [
    "# Data Collection - Syrian inflow\n",
    "**Author**: Andrea Cass"
   ]
  },
  {
   "cell_type": "markdown",
   "id": "c5163d7f-1284-4d1f-9baf-6c5ac455bffe",
   "metadata": {},
   "source": [
    "## 1. About this notebook\n",
    "\n",
    "The purpose of this Jupyter notebook is to collect immigration-related tweets in English and German published publicly in Germany during the Syrian inflow between December 21, 2014 and April 21, 2016\n",
    "\n",
    "Tweets are collected via the Twitter API using my Academic research developer account and Twarc2. To run the code successfuly, you must also have an Academic research developer account with Twitter and provide your details under the \"Authentification\" section. You can apply for an account here: https://developer.twitter.com/en/products/twitter-api/academic-research\n",
    "\n",
    "English and German tweets will be collected separately and saved to separate csv files, titled:\n",
    "> *01a_Data-Collection_limited_Syrian_eng.csv*\n",
    "\n",
    "> *01b_Data-Collection_limited_Syrian_de.csv*\n",
    "\n",
    "The two files will be merged in the subsequent Jupyter Notebook, titled, \"02_Pre-processing_limited\"\n",
    "\n",
    "**NOTE**: Do NOT merely run all cells without reading instructions from each section. At times, it may be required of you to alter the code. If that is the case, you will be instructed on how to do so."
   ]
  },
  {
   "cell_type": "markdown",
   "id": "af6542eb-f830-4693-8d39-b6b855f8c6d8",
   "metadata": {},
   "source": [
    "## 2. Imports"
   ]
  },
  {
   "cell_type": "code",
   "execution_count": 1,
   "id": "abc7c3ee-990d-4cb6-ad5e-e1cfe3fb37cd",
   "metadata": {
    "scrolled": true
   },
   "outputs": [],
   "source": [
    "from datetime import date, datetime, timezone\n",
    "import asyncio\n",
    "import json\n",
    "import pandas as pd\n",
    "import numpy as np\n",
    "import matplotlib.pyplot as plt\n",
    "from twarc import Twarc2, expansions\n",
    "import tweepy\n",
    "import csv\n",
    "import os\n",
    "from pathlib import Path"
   ]
  },
  {
   "cell_type": "markdown",
   "id": "bf79f17b-7a36-4d8c-940c-278cc6843f65",
   "metadata": {},
   "source": [
    "## 3. Working directory & file paths\n",
    "\n",
    "Before beginning data collection, the working directory needs to be set up. Additionally, a new folder, called CASS_thesis, will be created and saved on your working directory.\n",
    "\n",
    "The subsequent code will create two objects named:\n",
    "* **cwd**: the current working directory (e.g., your Desktop)\n",
    "* **CASS_thesis**: the folder where all data from my Notebooks will be saved"
   ]
  },
  {
   "cell_type": "markdown",
   "id": "0c7d1e72-54f0-4565-9599-dfade3a558dd",
   "metadata": {},
   "source": [
    "### 3.1. Current working directory\n",
    "Use the code below to find out what your current working directory is set to."
   ]
  },
  {
   "cell_type": "code",
   "execution_count": 2,
   "id": "bde6b139-dcd4-45a9-9b2e-487485f577ef",
   "metadata": {},
   "outputs": [
    {
     "data": {
      "text/plain": [
       "'/Users/andycass/Jupyterlab_main-folder/THESIS'"
      ]
     },
     "execution_count": 2,
     "metadata": {},
     "output_type": "execute_result"
    }
   ],
   "source": [
    "# find current working directory\n",
    "\n",
    "os.getcwd()"
   ]
  },
  {
   "cell_type": "markdown",
   "id": "11003b70-88ca-4034-8ffa-11130439dc9a",
   "metadata": {},
   "source": [
    "If your current working directory is not your desired directory, follow the subsequent steps to change the working diectory by:\n",
    "1. deciding where you would like your working directory to be (e.g., your Desktop)\n",
    "2. entering the file path of your desired working directory into the code below\n",
    "\n",
    "**NOTE**: If you are satisfied with your working directory and do NOT wish to change it, skip the block of code underneath **3.1.1. Changing current working directory** and, instead, proceed from the block of code underneath **3.1.2. Naming current working directory**."
   ]
  },
  {
   "cell_type": "markdown",
   "id": "5d5c7dd2-43c1-4b94-93c3-9f303403da3d",
   "metadata": {
    "tags": []
   },
   "source": [
    "#### 3.1.1. Changing current working directory\n",
    "**NOTE**: The code below contains the path to **my** desired working directory to serve as an example. You must alter it to the path of **your** desired working directory. Keep in mind that my example is formatted according to Macbook standards, and Windows formatting differs."
   ]
  },
  {
   "cell_type": "code",
   "execution_count": 3,
   "id": "bd57c987-2037-4153-bafc-20c042964154",
   "metadata": {},
   "outputs": [],
   "source": [
    "# changing current working directory\n",
    "\n",
    "os.chdir('/Users/andycass/Desktop/Thesis_data-and-code')"
   ]
  },
  {
   "cell_type": "markdown",
   "id": "c8088b69-2648-4192-82d0-c4db7094877f",
   "metadata": {},
   "source": [
    "#### 3.1.2. Naming current working directory\n",
    "Now that your current working directory is established, use the code below to name it \"cwd\":"
   ]
  },
  {
   "cell_type": "code",
   "execution_count": 4,
   "id": "961633b9-3f6d-48be-a1fa-08bd659ad2e3",
   "metadata": {},
   "outputs": [],
   "source": [
    "# naming the current working directory\n",
    "\n",
    "cwd = Path.cwd()"
   ]
  },
  {
   "cell_type": "code",
   "execution_count": 5,
   "id": "70edf1da-f7fe-472a-b138-d52effe0acbe",
   "metadata": {},
   "outputs": [
    {
     "data": {
      "text/plain": [
       "PosixPath('/Users/andycass/Desktop/Thesis_data-and-code')"
      ]
     },
     "execution_count": 5,
     "metadata": {},
     "output_type": "execute_result"
    }
   ],
   "source": [
    "# double-checking the current working directory location\n",
    "\n",
    "cwd"
   ]
  },
  {
   "cell_type": "markdown",
   "id": "d485994d-ce57-462f-b3e6-642bfc02c7a1",
   "metadata": {},
   "source": [
    "### 3.2. Creating new folder, CASS_thesis\n",
    "Now that the current directory has been named, the code blow will allow you to name and then create a new folder called \"CASS_thesis\"."
   ]
  },
  {
   "cell_type": "code",
   "execution_count": 6,
   "id": "99436da9-9894-43d6-b253-df27bef8f3ce",
   "metadata": {},
   "outputs": [],
   "source": [
    "# naming the CASS_thesis folder\n",
    "\n",
    "CASS_thesis = cwd / 'CASS_thesis'"
   ]
  },
  {
   "cell_type": "code",
   "execution_count": 7,
   "id": "679f68cb-e3cc-4ceb-a373-74eed57ece90",
   "metadata": {},
   "outputs": [],
   "source": [
    "# creating the CASS_thesis folder\n",
    "\n",
    "CASS_thesis.mkdir()"
   ]
  },
  {
   "cell_type": "code",
   "execution_count": 8,
   "id": "6f5e0837-d5bc-4043-846a-05f4cd1c3ea0",
   "metadata": {},
   "outputs": [
    {
     "data": {
      "text/plain": [
       "PosixPath('/Users/andycass/Desktop/Thesis_data-and-code/CASS_thesis')"
      ]
     },
     "execution_count": 8,
     "metadata": {},
     "output_type": "execute_result"
    }
   ],
   "source": [
    "# double-checking the CASS_thesis location\n",
    "\n",
    "CASS_thesis"
   ]
  },
  {
   "cell_type": "markdown",
   "id": "1568b331-8e3c-4219-a19e-17dc6bce3d02",
   "metadata": {},
   "source": [
    "## 4. Authentification\n",
    "**NOTE**: You must provide your unique bearer token from your Academic research account in the quotation marks of the following code. To proceed, insert your bearer token. The code will NOT run otherwise."
   ]
  },
  {
   "cell_type": "code",
   "execution_count": 9,
   "id": "0c792265-8867-45dc-94a1-ce9bd2159ee2",
   "metadata": {},
   "outputs": [],
   "source": [
    "bearer_token = \"\" # your bearer token\n",
    "twarc_client = Twarc2(bearer_token=bearer_token)"
   ]
  },
  {
   "cell_type": "markdown",
   "id": "9b9ceb52-061c-45cf-a449-d695fec4d7c9",
   "metadata": {},
   "source": [
    "## 5. Search endpoint\n",
    "### 5.1. English tweets"
   ]
  },
  {
   "cell_type": "code",
   "execution_count": 15,
   "id": "e5e58fd2-ce40-4bc6-89cc-7ce37f0c47e6",
   "metadata": {},
   "outputs": [],
   "source": [
    "# empty list to store the search results\n",
    "\n",
    "tweets = [] "
   ]
  },
  {
   "cell_type": "markdown",
   "id": "1eea3e22-01b2-436e-a5db-66e00153b113",
   "metadata": {},
   "source": [
    "#### 5.1.1. Defining the query\n",
    "The query will contain:\n",
    "* keywords\n",
    "* country\n",
    "* geo-location\n",
    "* language\n",
    "\n",
    "The keywords include:\n",
    "* refugee\n",
    "* refugees\n",
    "* asylum seeker\n",
    "* syrian\n",
    "* syrians\n",
    "\n",
    "**NOTE**: There is no case sensitivity."
   ]
  },
  {
   "cell_type": "code",
   "execution_count": 16,
   "id": "05b55045-9ea7-4301-9f6e-1ea3729da74a",
   "metadata": {},
   "outputs": [],
   "source": [
    "# defining the query\n",
    "\n",
    "query = '(\"asylum seeker\" OR \"refugee\" OR \"refugees\" OR \"syrian\" OR \"syrians\") place_country:DE has:geo lang:en'\n"
   ]
  },
  {
   "cell_type": "code",
   "execution_count": 17,
   "id": "965ea461-2a76-4f69-99d6-f65caabe5e66",
   "metadata": {},
   "outputs": [],
   "source": [
    "# start and end time of the query\n",
    "\n",
    "# start: Dec 21, 2014\n",
    "# end: April 21, 2016\n",
    "\n",
    "start = datetime(2014, 12, 21, 0, 0, 0, 0, tzinfo=timezone.utc)\n",
    "end = datetime(2016, 4, 21, 0, 0, 0, 0, tzinfo=timezone.utc)"
   ]
  },
  {
   "cell_type": "markdown",
   "id": "f82eccc2-ad1d-4046-9622-18e52bc69581",
   "metadata": {},
   "source": [
    "#### 5.1.2. File name\n",
    "All tweets collected will be saved on a file called:\n",
    "> *01a_Data-Collection_limited_Syrian_eng.csv*"
   ]
  },
  {
   "cell_type": "code",
   "execution_count": 11,
   "id": "a233bda8-f919-4e38-8ef2-c325807bd4fb",
   "metadata": {},
   "outputs": [],
   "source": [
    "filename = CASS_thesis / \"01a_Data-Collection_limited_Syrian-eng.csv\""
   ]
  },
  {
   "cell_type": "markdown",
   "id": "e4815451-28e5-4979-801d-38d7460d9ebb",
   "metadata": {},
   "source": [
    "#### 5.1.3. Collection & saving\n",
    "The following code will collect all tweets that match the given query and start and end times, save them as a dataframe, and save the dataframe as a csv file with the file name previously provided."
   ]
  },
  {
   "cell_type": "code",
   "execution_count": 18,
   "id": "aae6d1d4-5abe-4f84-8d41-1928bcb6c240",
   "metadata": {},
   "outputs": [],
   "source": [
    "for tweet in twarc_client.search_all(\n",
    "    query,\n",
    "    start_time=start,\n",
    "    end_time=end):\n",
    "    tweets.append(tweet)\n",
    "    \n",
    "df = pd.json_normalize(tweets, record_path=['data']) \n",
    "\n",
    "df.to_csv(filename, index=False)"
   ]
  },
  {
   "cell_type": "markdown",
   "id": "f33d514a-a7bd-478b-ae80-48c9d7f4b23f",
   "metadata": {},
   "source": [
    "### 5.2. German tweets"
   ]
  },
  {
   "cell_type": "code",
   "execution_count": 19,
   "id": "78bd262f-0b56-4e69-b507-50ae4beacb6f",
   "metadata": {},
   "outputs": [],
   "source": [
    "# empty list to store the search results\n",
    "\n",
    "tweets = [] "
   ]
  },
  {
   "cell_type": "markdown",
   "id": "c53e6743-7925-4ccf-b329-47ff1b8fa5ec",
   "metadata": {},
   "source": [
    "#### 5.2.1. Defining the query\n",
    "The query will contain:\n",
    "* keywords\n",
    "* country\n",
    "* geo-location\n",
    "* language\n",
    "\n",
    "The keywords include:\n",
    "* flüchtling\n",
    "* fluchtling\n",
    "* fluechtling\n",
    "* flüchtlinge\n",
    "* fluchtlinge\n",
    "* fluechtlinge\n",
    "* asylbewerber\n",
    "* asylbewerberin\n",
    "* asylbewerberinnen\n",
    "* asylsuchende\n",
    "* asylsuchenden\n",
    "* asylant\n",
    "* asylantin\n",
    "* asylanten\n",
    "* asylantinnen\n",
    "* syrer\n",
    "* syrerin\n",
    "* syrier\n",
    "* syrierin\n",
    "* syrisch\n",
    "\n",
    "**NOTE**: The list of German keywords is longer than the list of English keywords due to the gendered nature of the language and to take into account potential missing--or alternative spelling of--umlauts (e.g., \"u\" instead of \"ü\" or \"ue\" instead of \"ü\")\n",
    "\n",
    "**NOTE**: There is no case sensitivity."
   ]
  },
  {
   "cell_type": "code",
   "execution_count": 20,
   "id": "6fbb32a2-f7e2-44ba-969c-00b7d9340536",
   "metadata": {},
   "outputs": [],
   "source": [
    "query = '(\"flüchtling\" OR \"fluchtling\" OR \"fluechtling\" OR \"flüchtlinge\" OR \"fluchtlinge\" OR \"fluechtlinge\" OR \"asylbewerber\" OR \"asylbewerberin\" OR \"asylbewerberinnen\" OR \"asylsuchende\" OR \"asylsuchenden\" OR \"asylant\" OR \"asylantin\" OR \"asylanten\" OR \"asylantinnen\" OR \"syrer\" OR \"syrerin\" OR \"syrier\" OR \"syrierin\" OR \"syrisch\") place_country:DE has:geo lang:de'"
   ]
  },
  {
   "cell_type": "code",
   "execution_count": 21,
   "id": "62a8c8d9-8593-476b-a36a-cea30f3f478f",
   "metadata": {},
   "outputs": [],
   "source": [
    "# start and end time of the query\n",
    "\n",
    "# start: Dec 21, 2014\n",
    "# end: April 21, 2016\n",
    "\n",
    "start = datetime(2014, 12, 21, 0, 0, 0, 0, tzinfo=timezone.utc)\n",
    "end = datetime(2016, 4, 21, 0, 0, 0, 0, tzinfo=timezone.utc)"
   ]
  },
  {
   "cell_type": "markdown",
   "id": "e1d44d23-9241-4160-9acb-e584f60d0444",
   "metadata": {},
   "source": [
    "#### 5.2.2. File name\n",
    "All tweets collected will be saved on a file called:\n",
    "> *01b_Data-Collection_limited_Syrian_de.csv*"
   ]
  },
  {
   "cell_type": "code",
   "execution_count": 22,
   "id": "d7499ac4-e216-4850-8e11-84c4fc62e941",
   "metadata": {},
   "outputs": [],
   "source": [
    "filename = CASS_thesis / \"01b_Data-Collection_limited_Syrian-de.csv\""
   ]
  },
  {
   "cell_type": "markdown",
   "id": "34cf2316-f23e-49fa-aeaa-4430fd5b1629",
   "metadata": {},
   "source": [
    "#### 5.2.3. Collection & saving\n",
    "The following code will collect all tweets that match the given query and start and end times, save them as a dataframe, and save the dataframe as a csv file with the file name previously provided."
   ]
  },
  {
   "cell_type": "code",
   "execution_count": 23,
   "id": "acf180d5-06f9-4dc7-8090-f73760a2bafa",
   "metadata": {},
   "outputs": [],
   "source": [
    "for tweet in twarc_client.search_all(\n",
    "    query,\n",
    "    start_time=start,\n",
    "    end_time=end):\n",
    "    tweets.append(tweet)\n",
    "    \n",
    "df = pd.json_normalize(tweets, record_path=['data']) \n",
    "\n",
    "df.to_csv(filename, index=False)"
   ]
  },
  {
   "cell_type": "code",
   "execution_count": null,
   "id": "e8e4713e-a26e-4f39-8bc2-1838cc1823e2",
   "metadata": {},
   "outputs": [],
   "source": []
  }
 ],
 "metadata": {
  "kernelspec": {
   "display_name": "Python 3 (ipykernel)",
   "language": "python",
   "name": "python3"
  },
  "language_info": {
   "codemirror_mode": {
    "name": "ipython",
    "version": 3
   },
   "file_extension": ".py",
   "mimetype": "text/x-python",
   "name": "python",
   "nbconvert_exporter": "python",
   "pygments_lexer": "ipython3",
   "version": "3.9.13"
  }
 },
 "nbformat": 4,
 "nbformat_minor": 5
}
