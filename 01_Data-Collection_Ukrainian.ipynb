{
 "cells": [
  {
   "cell_type": "markdown",
   "id": "efd50217",
   "metadata": {},
   "source": [
    "# Data Collection - Ukrainian inflow\n",
    "**Author**: Andrea Cass"
   ]
  },
  {
   "cell_type": "markdown",
   "id": "33d0569a",
   "metadata": {},
   "source": [
    "## 1. About this notebook\n",
    "\n",
    "The purpose of this Jupyter notebook is to collect immigration-related tweets in English and German published publicly in Germany during the Ukrainian inflow between June 24, 2021 and October 24, 2022\n",
    "\n",
    "Tweets are collected via the Twitter API using my Academic research developer account and Twarc2. To run the code successfuly, you must also have an Academic research developer account with Twitter and provide your details under the \"Authentification\" section. You can apply for an account here: https://developer.twitter.com/en/products/twitter-api/academic-research\n",
    "\n",
    "English and German tweets will be collected separately and saved to separate csv files, titled:\n",
    "> *01a_Data-Collection_Ukrainian_eng.csv*\n",
    "\n",
    "> *01b_Data-Collection_Ukrainian_de.csv*\n",
    "\n",
    "The two files will be merged in the subsequent Jupyter Notebook, titled, \"02_Pre-processing\"\n",
    "\n",
    "**NOTE**: Do NOT merely run all cells without reading instructions from each section. At times, it may be required of you to alter the code. If that is the case, you will be instructed on how to do so."
   ]
  },
  {
   "cell_type": "markdown",
   "id": "6bfb597e",
   "metadata": {},
   "source": [
    "## 2. Imports"
   ]
  },
  {
   "cell_type": "code",
   "execution_count": 1,
   "id": "c72d77c8",
   "metadata": {
    "scrolled": true,
    "tags": []
   },
   "outputs": [],
   "source": [
    "from datetime import date, datetime, timezone\n",
    "import asyncio\n",
    "import json\n",
    "import pandas as pd\n",
    "import numpy as np\n",
    "import matplotlib.pyplot as plt\n",
    "from twarc import Twarc2, expansions\n",
    "import tweepy\n",
    "import csv\n",
    "import os\n",
    "from pathlib import Path"
   ]
  },
  {
   "cell_type": "markdown",
   "id": "691302c5-2c1c-491d-9ae3-0507502d30dc",
   "metadata": {},
   "source": [
    "## 3. Working directory & file paths\n",
    "\n",
    "In the Notebook for the data collection of tweets during the Syrian inflow, the working directory was established, and a new folded, \"CASS_thesis\" was created within the working directory. The code below is used to, again, set up your working directory in addition to creating two objects called:\n",
    "* **cwd**: the current working directory\n",
    "* **CASS_thesis**: the folder where all data from my Notebooks will be saved"
   ]
  },
  {
   "cell_type": "markdown",
   "id": "3e8ebb21-e319-47cc-a7b4-c67686d36c9f",
   "metadata": {},
   "source": [
    "### 3.1. Current working directory\n",
    "Use the code below to find out what your current working directory is set to."
   ]
  },
  {
   "cell_type": "code",
   "execution_count": null,
   "id": "bf40e44e-fdde-446a-b0d8-3f019c0ff5ce",
   "metadata": {},
   "outputs": [],
   "source": [
    "# find current working directory\n",
    "\n",
    "os.getcwd()"
   ]
  },
  {
   "cell_type": "markdown",
   "id": "4d0d86b7-7035-40cb-8393-33b452613566",
   "metadata": {},
   "source": [
    "If your current working directory is not your desired directory, follow the subsequent steps to change the working diectory by:\n",
    "1. deciding where you would like your working directory to be (e.g., your Desktop)\n",
    "2. entering the file path of your desired working directory into the code below\n",
    "\n",
    "**NOTE**: If you are satisfied with your working directory and do NOT wish to change it, skip the block of code underneath **3.1.1. Changing current working directory** and, instead, proceed from the block of code underneath **3.1.2. Naming current working directory**."
   ]
  },
  {
   "cell_type": "markdown",
   "id": "8bae36e9-4bcb-4cd5-bbed-ffd008fbdef9",
   "metadata": {},
   "source": [
    "#### 3.1.1. Changing current working directory\n",
    "**NOTE**: The code below contains the path to **my** desired working directory to serve as an example. You must alter it to the path of **your** desired working directory. Keep in mind that my example is formatted according to Macbook standards, and Windows formatting differs."
   ]
  },
  {
   "cell_type": "code",
   "execution_count": null,
   "id": "5bc92f0e-79c2-4911-ae4f-ad6f472a1cd9",
   "metadata": {},
   "outputs": [],
   "source": [
    "# changing current working directory\n",
    "\n",
    "os.chdir('/Users/andycass/Desktop')"
   ]
  },
  {
   "cell_type": "markdown",
   "id": "ca2d9208-75a2-40eb-850a-f3b46493d726",
   "metadata": {},
   "source": [
    "#### 3.1.2. Naming current working directory\n",
    "Now that your current working directory is established, use the code below to name it \"cwd\":"
   ]
  },
  {
   "cell_type": "code",
   "execution_count": null,
   "id": "b42a95c7-b205-49e5-a76b-cb38da90fee9",
   "metadata": {},
   "outputs": [],
   "source": [
    "# naming the current working directory\n",
    "\n",
    "cwd = Path.cwd()"
   ]
  },
  {
   "cell_type": "code",
   "execution_count": null,
   "id": "a3c35535-b4e2-44e0-bb03-8dbfd30493b6",
   "metadata": {},
   "outputs": [],
   "source": [
    "# double-checking the current working directory location\n",
    "\n",
    "cwd"
   ]
  },
  {
   "cell_type": "markdown",
   "id": "3c7e7e13-a348-44f6-94dd-43df7904b3a0",
   "metadata": {},
   "source": [
    "### 3.2. CASS_thesis\n",
    "Now that the current directory has been named, the code below will allow you to name \"CASS_thesis\" (which was already created in the Notebook titled \"01_Data-Collection_Syrian)."
   ]
  },
  {
   "cell_type": "code",
   "execution_count": null,
   "id": "6cdc12f2-02d8-466e-9f8d-45b1d554de56",
   "metadata": {},
   "outputs": [],
   "source": [
    "# naming the CASS_thesis folder\n",
    "\n",
    "CASS_thesis = cwd / 'CASS_thesis'"
   ]
  },
  {
   "cell_type": "code",
   "execution_count": null,
   "id": "3734de16-e1b6-4691-899d-4defd8ecce17",
   "metadata": {},
   "outputs": [],
   "source": [
    "# double-checking the CASS_thesis location\n",
    "\n",
    "CASS_thesis"
   ]
  },
  {
   "cell_type": "markdown",
   "id": "8b1d2dcf",
   "metadata": {},
   "source": [
    "## 4. Authentification\n",
    "**NOTE**: You must provide your unique bearer token from your Academic research account in the quotation marks of the following code. To proceed, insert your bearer token. The code will NOT run otherwise."
   ]
  },
  {
   "cell_type": "code",
   "execution_count": 2,
   "id": "8b1c31e3",
   "metadata": {},
   "outputs": [],
   "source": [
    "bearer_token = \"\" # your bearer token\n",
    "twarc_client = Twarc2(bearer_token=bearer_token)"
   ]
  },
  {
   "cell_type": "markdown",
   "id": "f0fbd205",
   "metadata": {},
   "source": [
    "## 5. Search endpoint\n",
    "### 5.1. English tweets"
   ]
  },
  {
   "cell_type": "code",
   "execution_count": 3,
   "id": "841cebc5",
   "metadata": {},
   "outputs": [],
   "source": [
    "# empty list to store the search results\n",
    "\n",
    "tweets = [] "
   ]
  },
  {
   "cell_type": "markdown",
   "id": "2899c479",
   "metadata": {},
   "source": [
    "#### 5.1.1. Defining the query\n",
    "The query will contain:\n",
    "* keywords\n",
    "* country\n",
    "* geo-location\n",
    "* language\n",
    "\n",
    "The keywords include:\n",
    "* immigrant\n",
    "* immigrants\n",
    "* immigration\n",
    "* migrant\n",
    "* migrants\n",
    "* migration\n",
    "* asylum seeker\n",
    "* refugee\n",
    "* refugees\n",
    "* foreigner\n",
    "* foreigners\n",
    "* ukrainian\n",
    "* ukrainians\n",
    "\n",
    "**NOTE**: There is no case sensitivity."
   ]
  },
  {
   "cell_type": "code",
   "execution_count": 4,
   "id": "7cfeaa49",
   "metadata": {},
   "outputs": [],
   "source": [
    "# defining the query\n",
    "\n",
    "query = '(\"immigrant\" OR \"immigrants\" OR \"immigration\" OR \"migrant\" OR \"migrants\" OR \"migration\" OR \"asylum seeker\" OR \"refugee\" OR \"refugees\" OR \"foreigner\" OR \"foreigners\" OR \"ukrainians\") place_country:DE has:geo lang:en'"
   ]
  },
  {
   "cell_type": "code",
   "execution_count": 5,
   "id": "19eadca9",
   "metadata": {},
   "outputs": [],
   "source": [
    "# start and end time of the query\n",
    "\n",
    "#start: June 24, 2021\n",
    "# end: October 24, 2022\n",
    "\n",
    "start = datetime(2021, 6, 24, 0, 0, 0, 0, tzinfo=timezone.utc)\n",
    "end = datetime(2022, 10, 24, 0, 0, 0, 0, tzinfo=timezone.utc)"
   ]
  },
  {
   "cell_type": "markdown",
   "id": "9e20cb4f",
   "metadata": {},
   "source": [
    "#### 5.1.2. File name\n",
    "All tweets collected will be saved on a file called:\n",
    "> *01a_Data-Collection_Ukrainian_eng.csv*"
   ]
  },
  {
   "cell_type": "code",
   "execution_count": 6,
   "id": "d11ade37",
   "metadata": {},
   "outputs": [],
   "source": [
    "filename = CASS_thesis / \"01a_Data-Collection_Ukrainian-eng.csv\""
   ]
  },
  {
   "cell_type": "markdown",
   "id": "56f58373",
   "metadata": {},
   "source": [
    "#### 5.1.3. Collection & saving\n",
    "The following code will collect all tweets that match the given query and start and end times, save them as a dataframe, and save the dataframe as a csv file with the file name previously provided."
   ]
  },
  {
   "cell_type": "code",
   "execution_count": 7,
   "id": "ad74161a",
   "metadata": {},
   "outputs": [
    {
     "name": "stderr",
     "output_type": "stream",
     "text": [
      "caught 503 from Twitter API, sleeping 1\n"
     ]
    }
   ],
   "source": [
    "for tweet in twarc_client.search_all(\n",
    "    query,\n",
    "    start_time=start,\n",
    "    end_time=end):\n",
    "    tweets.append(tweet)\n",
    "    \n",
    "df = pd.json_normalize(tweets, record_path=['data']) \n",
    "\n",
    "df.to_csv(filename, index=False)"
   ]
  },
  {
   "cell_type": "markdown",
   "id": "6c948182",
   "metadata": {},
   "source": [
    "### 5.2. German tweets"
   ]
  },
  {
   "cell_type": "code",
   "execution_count": 8,
   "id": "c92c3d45",
   "metadata": {},
   "outputs": [],
   "source": [
    "# empty list to store the search results\n",
    "\n",
    "tweets = [] "
   ]
  },
  {
   "cell_type": "markdown",
   "id": "f5d670df",
   "metadata": {},
   "source": [
    "#### 5.2.1. Defining the query\n",
    "The query will contain:\n",
    "* keywords\n",
    "* country\n",
    "* geo-location\n",
    "* language\n",
    "\n",
    "The keywords include:\n",
    "* einwanderer\n",
    "* einwanderin\n",
    "* einwanderinnen\n",
    "* immigrant\n",
    "* immigrantin\n",
    "* immigranten\n",
    "* immigrantinnen\n",
    "* migrant\n",
    "* migrantin\n",
    "* migranten\n",
    "* migrantinnen\n",
    "* migration\n",
    "* zuwanderer\n",
    "* zuwanderin\n",
    "* zuwanderinnen\n",
    "* ausländer\n",
    "* auslander\n",
    "* auslaender\n",
    "* ausländerin\n",
    "* auslaenderin\n",
    "* auslanderin\n",
    "* ausländerinnen\n",
    "* auslanderinnen\n",
    "* auslaenderinnen\n",
    "* flüchtling\n",
    "* fluchtling\n",
    "* fluechtling\n",
    "* flüchtlinge\n",
    "* fluchtlinge\n",
    "* fluechtlinge\n",
    "* asylbewerber\n",
    "* asylbewerberin\n",
    "* asylbewerberinnen\n",
    "* asylsuchende\n",
    "* asylsuchenden\n",
    "* asylant\n",
    "* asylantin\n",
    "* asylanten\n",
    "* asylantinnen\n",
    "* ukrainer\n",
    "* ukrainerin\n",
    "* ukrainerinnen\n",
    "\n",
    "**NOTE**: The list of German keywords is longer than the list of English keywords due to the gendered nature of the language and to take into account potential missing--or alternative spelling of--umlauts (e.g., \"u\" instead of \"ü\" or \"ue\" instead of \"ü\")\n",
    "\n",
    "**NOTE**: There is no case sensitivity."
   ]
  },
  {
   "cell_type": "code",
   "execution_count": 9,
   "id": "4d7457d7",
   "metadata": {},
   "outputs": [],
   "source": [
    "# defining the query\n",
    "\n",
    "query = '(\"einwanderer\" OR \"einwanderin\" OR \"einwanderinnen\" OR \"immigrant\" OR \"immigrantin\" OR \"immigranten\" OR \"immigrantinnen\" OR \"migrant\" OR \"migrantin\" OR \"migranten\" OR \"migrantinnen\" OR \"migration\" OR \"zuwanderer\" OR \"zuwanderin\" OR \"zuwanderinnen\" OR \"ausländer\" OR \"auslander\" OR \"auslaender\" OR \"ausländerin\" OR \"auslaenderin\" OR \"auslanderin\" OR \"ausländerinnen\" OR \"auslanderinnen\" OR \"auslaenderinnen\" OR \"flüchtling\" OR \"fluchtling\" OR \"fluechtling\" OR \"flüchtlinge\" OR \"fluchtlinge\" OR \"fluechtlinge\" OR \"asylbewerber\" OR \"asylbewerberin\" OR \"asylbewerberinnen\" OR \"asylsuchende\" OR \"asylsuchenden\" OR \"asylant\" OR \"asylantin\" OR \"asylanten\" OR \"asylantinnen\" OR \"ukrainer\" OR \"ukrainerin\" OR \"ukrainerinnen\") place_country:DE has:geo lang:de'"
   ]
  },
  {
   "cell_type": "code",
   "execution_count": 10,
   "id": "515aa5a4",
   "metadata": {},
   "outputs": [],
   "source": [
    "# start and end time of the query\n",
    "\n",
    "#start: June 24, 2021\n",
    "# end: October 24, 2022\n",
    "\n",
    "start = datetime(2021, 6, 24, 0, 0, 0, 0, tzinfo=timezone.utc)\n",
    "end = datetime(2022, 10, 24, 0, 0, 0, 0, tzinfo=timezone.utc)"
   ]
  },
  {
   "cell_type": "markdown",
   "id": "021c5978",
   "metadata": {},
   "source": [
    "#### 5.2.2. File name\n",
    "All tweets collected will be saved on a file called:\n",
    "> *01b_Data-Collection_Ukrainian_de.csv*"
   ]
  },
  {
   "cell_type": "code",
   "execution_count": 11,
   "id": "12c562c5",
   "metadata": {},
   "outputs": [],
   "source": [
    "filename = CASS_thesis / \"01b_Data-Collection_Ukrainian-de.csv\""
   ]
  },
  {
   "cell_type": "markdown",
   "id": "b4377048",
   "metadata": {},
   "source": [
    "#### 5.2.3. Collection & saving\n",
    "The following code will collect all tweets that match the given query and start and end times, save them as a dataframe, and save the dataframe as a csv file with the file name previously provided."
   ]
  },
  {
   "cell_type": "code",
   "execution_count": 12,
   "id": "2dca158b",
   "metadata": {},
   "outputs": [],
   "source": [
    "for tweet in twarc_client.search_all(\n",
    "    query,\n",
    "    start_time=start,\n",
    "    end_time=end):\n",
    "    tweets.append(tweet)\n",
    "    \n",
    "df = pd.json_normalize(tweets, record_path=['data']) \n",
    "\n",
    "df.to_csv(filename, index=False)"
   ]
  }
 ],
 "metadata": {
  "kernelspec": {
   "display_name": "Python 3 (ipykernel)",
   "language": "python",
   "name": "python3"
  },
  "language_info": {
   "codemirror_mode": {
    "name": "ipython",
    "version": 3
   },
   "file_extension": ".py",
   "mimetype": "text/x-python",
   "name": "python",
   "nbconvert_exporter": "python",
   "pygments_lexer": "ipython3",
   "version": "3.9.13"
  }
 },
 "nbformat": 4,
 "nbformat_minor": 5
}
