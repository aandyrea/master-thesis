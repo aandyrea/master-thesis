{
 "cells": [
  {
   "cell_type": "markdown",
   "id": "6064b254",
   "metadata": {},
   "source": [
    "# Data Collection - Syrian inflow\n",
    "**Author**: Andrea Cass"
   ]
  },
  {
   "cell_type": "markdown",
   "id": "2014c41c",
   "metadata": {},
   "source": [
    "## 1. About this notebook\n",
    "\n",
    "The purpose of this Jupyter notebook is to collect immigration-related tweets in English and German published publicly in Germany during the Syrian inflow between December 21, 2014 and April 21, 2016\n",
    "\n",
    "Tweets are collected via the Twitter API using my Academic research developer account and Twarc2. To run the code successfuly, you must also have an Academic research developer account with Twitter and provide your details under the \"Authentification\" section. You can apply for an account here: https://developer.twitter.com/en/products/twitter-api/academic-research\n",
    "\n",
    "English and German tweets will be collected separately and saved to separate csv files, titled:\n",
    "> *01a_Data-Collection_Syrian_eng.csv*\n",
    "\n",
    "> *01b_Data-Collection_Syrian_de.csv*\n",
    "\n",
    "The two files will be merged in the subsequent Jupyter Notebook, titled, \"02_Pre-processing\"\n",
    "\n",
    "**NOTE**: Do NOT merely run all cells without reading instructions from each section. At times, it may be required of you to alter the code. If that is the case, you will be instructed on how to do so."
   ]
  },
  {
   "cell_type": "markdown",
   "id": "d0b8b795",
   "metadata": {},
   "source": [
    "## 2. Imports"
   ]
  },
  {
   "cell_type": "code",
   "execution_count": 1,
   "id": "58f98ee1",
   "metadata": {
    "scrolled": true
   },
   "outputs": [],
   "source": [
    "from datetime import date, datetime, timezone\n",
    "import asyncio\n",
    "import json\n",
    "import pandas as pd\n",
    "import numpy as np\n",
    "import matplotlib.pyplot as plt\n",
    "from twarc import Twarc2, expansions\n",
    "import tweepy\n",
    "import csv\n",
    "import os\n",
    "from pathlib import Path"
   ]
  },
  {
   "cell_type": "markdown",
   "id": "b377b3e3-ec8d-4333-a464-7d8fa1e679c0",
   "metadata": {},
   "source": [
    "## 3. Working directory & file paths\n",
    "\n",
    "Before beginning data collection, the working directory needs to be set up. Additionally, a new folder, called CASS_thesis, will be created and saved on your working directory.\n",
    "\n",
    "The subsequent code will create two objects named:\n",
    "* **cwd**: the current working directory (e.g., your Desktop)\n",
    "* **CASS_thesis**: the folder where all data from my Notebooks will be saved"
   ]
  },
  {
   "cell_type": "markdown",
   "id": "2213530b-ffaa-4319-844c-89780684d425",
   "metadata": {},
   "source": [
    "### 3.1. Current working directory\n",
    "Use the code below to find out what your current working directory is set to."
   ]
  },
  {
   "cell_type": "code",
   "execution_count": null,
   "id": "0ee3307e-7fe9-4f95-8c68-e73da8f06b75",
   "metadata": {},
   "outputs": [],
   "source": [
    "# find current working directory\n",
    "\n",
    "os.getcwd()"
   ]
  },
  {
   "cell_type": "markdown",
   "id": "89bf121b-bd6c-4cab-87bb-642f03e8e3c6",
   "metadata": {},
   "source": [
    "If your current working directory is not your desired directory, follow the subsequent steps to change the working diectory by:\n",
    "1. deciding where you would like your working directory to be (e.g., your Desktop)\n",
    "2. entering the file path of your desired working directory into the code below\n",
    "\n",
    "**NOTE**: If you are satisfied with your working directory and do NOT wish to change it, skip the block of code underneath **3.1.1. Changing current working directory** and, instead, proceed from the block of code underneath **3.1.2. Naming current working directory**."
   ]
  },
  {
   "cell_type": "markdown",
   "id": "05d77a9b-9a74-4e13-a09e-b0e2f719a47e",
   "metadata": {
    "tags": []
   },
   "source": [
    "#### 3.1.1. Changing current working directory\n",
    "**NOTE**: The code below contains the path to **my** desired working directory to serve as an example. You must alter it to the path of **your** desired working directory. Keep in mind that my example is formatted according to Macbook standards, and Windows formatting differs."
   ]
  },
  {
   "cell_type": "code",
   "execution_count": null,
   "id": "27110680-6e58-4c6b-9bb6-d662192b2d6b",
   "metadata": {},
   "outputs": [],
   "source": [
    "# changing current working directory\n",
    "\n",
    "os.chdir('/Users/andycass/Desktop')"
   ]
  },
  {
   "cell_type": "markdown",
   "id": "4f51461d-6c80-4f20-97d4-0fc04e837dcf",
   "metadata": {},
   "source": [
    "#### 3.1.2. Naming current working directory\n",
    "Now that your current working directory is established, use the code below to name it \"cwd\":"
   ]
  },
  {
   "cell_type": "code",
   "execution_count": null,
   "id": "ab90a558-4943-41ef-a18f-b036af0a4918",
   "metadata": {},
   "outputs": [],
   "source": [
    "# naming the current working directory\n",
    "\n",
    "cwd = Path.cwd()"
   ]
  },
  {
   "cell_type": "code",
   "execution_count": null,
   "id": "0ece6e1c-551c-410d-9368-e4221a107a6f",
   "metadata": {},
   "outputs": [],
   "source": [
    "# double-checking the current working directory location\n",
    "\n",
    "cwd"
   ]
  },
  {
   "cell_type": "markdown",
   "id": "e5eac1dc-83d3-499b-8a86-259b49f44fb1",
   "metadata": {},
   "source": [
    "### 3.2. Creating new folder, CASS_thesis\n",
    "Now that the current directory has been named, the code blow will allow you to name and then create a new folder called \"CASS_thesis\"."
   ]
  },
  {
   "cell_type": "code",
   "execution_count": null,
   "id": "42503de9-1c18-4d31-9113-12f281a6bdd9",
   "metadata": {},
   "outputs": [],
   "source": [
    "# naming the CASS_thesis folder\n",
    "\n",
    "CASS_thesis = cwd / 'CASS_thesis'"
   ]
  },
  {
   "cell_type": "code",
   "execution_count": null,
   "id": "385df793-a640-466b-b300-f82247adaae7",
   "metadata": {},
   "outputs": [],
   "source": [
    "# creating the CASS_thesis folder\n",
    "\n",
    "CASS_thesis.mkdir()"
   ]
  },
  {
   "cell_type": "code",
   "execution_count": null,
   "id": "b954795d-03bf-408f-9f7e-19e245363c98",
   "metadata": {},
   "outputs": [],
   "source": [
    "# double-checking the CASS_thesis location\n",
    "\n",
    "CASS_thesis"
   ]
  },
  {
   "cell_type": "markdown",
   "id": "c657dce7",
   "metadata": {},
   "source": [
    "## 4. Authentification\n",
    "**NOTE**: You must provide your unique bearer token from your Academic research account in the quotation marks of the following code. To proceed, insert your bearer token. The code will NOT run otherwise."
   ]
  },
  {
   "cell_type": "code",
   "execution_count": 3,
   "id": "32c4aa3d",
   "metadata": {},
   "outputs": [],
   "source": [
    "bearer_token = \"\" # your bearer token\n",
    "twarc_client = Twarc2(bearer_token=bearer_token)"
   ]
  },
  {
   "cell_type": "markdown",
   "id": "7f78c9d4",
   "metadata": {},
   "source": [
    "## 5. Search endpoint\n",
    "### 5.1. English tweets"
   ]
  },
  {
   "cell_type": "code",
   "execution_count": 4,
   "id": "ae113375",
   "metadata": {},
   "outputs": [],
   "source": [
    "# empty list to store the search results\n",
    "\n",
    "tweets = [] "
   ]
  },
  {
   "cell_type": "markdown",
   "id": "1b74a98d",
   "metadata": {},
   "source": [
    "#### 5.1.1. Defining the query\n",
    "The query will contain:\n",
    "* keywords\n",
    "* country\n",
    "* geo-location\n",
    "* language\n",
    "\n",
    "The keywords include:\n",
    "* immigrant\n",
    "* immigrants\n",
    "* immigration\n",
    "* migrant\n",
    "* migrants\n",
    "* migration\n",
    "* asylum seeker\n",
    "* refugee\n",
    "* refugees\n",
    "* foreigner\n",
    "* foreigners\n",
    "* syrian\n",
    "* syrians\n",
    "\n",
    "**NOTE**: There is no case sensitivity."
   ]
  },
  {
   "cell_type": "code",
   "execution_count": 5,
   "id": "e2245138",
   "metadata": {},
   "outputs": [],
   "source": [
    "# defining the query\n",
    "\n",
    "query = '(\"immigrant\" OR \"immigrants\" OR \"immigration\" OR \"migrant\" OR \"migrants\" OR \"migration\" OR \"asylum seeker\" OR \"refugee\" OR \"refugees\" OR \"foreigner\" OR \"foreigners\" OR \"syrian\" OR \"syrians\") place_country:DE has:geo lang:en'"
   ]
  },
  {
   "cell_type": "code",
   "execution_count": 6,
   "id": "efcbced7",
   "metadata": {},
   "outputs": [],
   "source": [
    "# start and end time of the query\n",
    "\n",
    "# start: Dec 21, 2014\n",
    "# end: April 21, 2016\n",
    "\n",
    "start = datetime(2014, 12, 21, 0, 0, 0, 0, tzinfo=timezone.utc)\n",
    "end = datetime(2016, 4, 21, 0, 0, 0, 0, tzinfo=timezone.utc)"
   ]
  },
  {
   "cell_type": "markdown",
   "id": "7862c5ec",
   "metadata": {},
   "source": [
    "#### 5.1.2. File name\n",
    "All tweets collected will be saved on a file called:\n",
    "> *01a_Data-Collection_Syrian_eng.csv*"
   ]
  },
  {
   "cell_type": "code",
   "execution_count": 7,
   "id": "fce2fa07",
   "metadata": {},
   "outputs": [],
   "source": [
    "filename = CASS_thessis / \"01a_Data-Collection_Syrian-eng.csv\""
   ]
  },
  {
   "cell_type": "markdown",
   "id": "785e16b9",
   "metadata": {},
   "source": [
    "#### 5.1.3. Collection & saving\n",
    "The following code will collect all tweets that match the given query and start and end times, save them as a dataframe, and save the dataframe as a csv file with the file name previously provided."
   ]
  },
  {
   "cell_type": "code",
   "execution_count": 8,
   "id": "73007a93",
   "metadata": {},
   "outputs": [],
   "source": [
    "for tweet in twarc_client.search_all(\n",
    "    query,\n",
    "    start_time=start,\n",
    "    end_time=end):\n",
    "    tweets.append(tweet)\n",
    "    \n",
    "df = pd.json_normalize(tweets, record_path=['data']) \n",
    "\n",
    "df.to_csv(filename, index=False)"
   ]
  },
  {
   "cell_type": "markdown",
   "id": "aac24ef7",
   "metadata": {},
   "source": [
    "### 5.2. German tweets"
   ]
  },
  {
   "cell_type": "code",
   "execution_count": 9,
   "id": "58a95539",
   "metadata": {},
   "outputs": [],
   "source": [
    "# empty list to store the search results\n",
    "\n",
    "tweets = [] "
   ]
  },
  {
   "cell_type": "markdown",
   "id": "bc619667",
   "metadata": {},
   "source": [
    "#### 5.2.1. Defining the query\n",
    "The query will contain:\n",
    "* keywords\n",
    "* country\n",
    "* geo-location\n",
    "* language\n",
    "\n",
    "The keywords include:\n",
    "* einwanderer\n",
    "* einwanderin\n",
    "* einwanderinnen\n",
    "* immigrant\n",
    "* immigrantin\n",
    "* immigranten\n",
    "* immigrantinnen\n",
    "* migrant\n",
    "* migrantin\n",
    "* migranten\n",
    "* migrantinnen\n",
    "* migration\n",
    "* zuwanderer\n",
    "* zuwanderin\n",
    "* zuwanderinnen\n",
    "* ausländer\n",
    "* auslander\n",
    "* auslaender\n",
    "* ausländerin\n",
    "* auslanderin\n",
    "* auslaenderin\n",
    "* ausländerinnen\n",
    "* auslanderinnen\n",
    "* auslaenderinnen\n",
    "* flüchtling\n",
    "* fluchtling\n",
    "* fluechtling\n",
    "* flüchtlinge\n",
    "* fluchtlinge\n",
    "* fluechtlinge\n",
    "* asylbewerber\n",
    "* asylbewerberin\n",
    "* asylbewerberinnen\n",
    "* asylsuchende\n",
    "* asylsuchenden\n",
    "* asylant\n",
    "* asylantin\n",
    "* asylanten\n",
    "* asylantinnen\n",
    "* syrer\n",
    "* syrerin\n",
    "* syrier\n",
    "* syrierin\n",
    "* syrisch\n",
    "\n",
    "**NOTE**: The list of German keywords is longer than the list of English keywords due to the gendered nature of the language and to take into account potential missing--or alternative spelling of--umlauts (e.g., \"u\" instead of \"ü\" or \"ue\" instead of \"ü\")\n",
    "\n",
    "**NOTE**: There is no case sensitivity."
   ]
  },
  {
   "cell_type": "code",
   "execution_count": 10,
   "id": "49354101",
   "metadata": {},
   "outputs": [],
   "source": [
    "# defining the query\n",
    "\n",
    "query = '(\"einwanderer\" OR \"einwanderin\" OR \"einwanderinnen\" OR \"immigrant\" OR \"immigrantin\" OR \"immigranten\" OR \"immigrantinnen\" OR \"migrant\" OR \"migrantin\" OR \"migranten\" OR \"migrantinnen\" OR \"migration\" OR \"zuwanderer\" OR \"zuwanderin\" OR \"zuwanderinnen\" OR \"ausländer\" OR \"auslander\" OR \"auslaender\" OR \"ausländerin\" OR \"auslanderin\" OR \"auslaenderin\" OR \"ausländerinnen\" OR \"auslanderinnen\" OR \"auslaenderinnen\" OR \"flüchtling\" OR \"fluchtling\" OR \"fluechtling\" OR \"flüchtlinge\" OR \"fluchtlinge\" OR \"fluechtlinge\" OR \"asylbewerber\" OR \"asylbewerberin\" OR \"asylbewerberinnen\" OR \"asylsuchende\" OR \"asylsuchenden\" OR \"asylant\" OR \"asylantin\" OR \"asylanten\" OR \"asylantinnen\" OR \"syrer\" OR \"syrerin\" OR \"syrier\" OR \"syrierin\" OR \"syrisch\") place_country:DE has:geo lang:de'"
   ]
  },
  {
   "cell_type": "code",
   "execution_count": 11,
   "id": "98b6e7a0",
   "metadata": {},
   "outputs": [],
   "source": [
    "# start and end time of the query\n",
    "\n",
    "# start: Dec 21, 2014\n",
    "# end: April 21, 2016\n",
    "\n",
    "start = datetime(2014, 12, 21, 0, 0, 0, 0, tzinfo=timezone.utc)\n",
    "end = datetime(2016, 4, 21, 0, 0, 0, 0, tzinfo=timezone.utc)"
   ]
  },
  {
   "cell_type": "markdown",
   "id": "54ea95b9",
   "metadata": {},
   "source": [
    "#### 5.2.2. File name\n",
    "All tweets collected will be saved on a file called:\n",
    "> *01b_Data-Collection_Syrian_de.csv*"
   ]
  },
  {
   "cell_type": "code",
   "execution_count": 12,
   "id": "1d0fee00",
   "metadata": {},
   "outputs": [],
   "source": [
    "filename = CASS_thesis / \"01b_Data-Collection_Syrian-de.csv\""
   ]
  },
  {
   "cell_type": "markdown",
   "id": "5e7a259b",
   "metadata": {},
   "source": [
    "#### 5.2.3. Collection & saving\n",
    "The following code will collect all tweets that match the given query and start and end times, save them as a dataframe, and save the dataframe as a csv file with the file name previously provided."
   ]
  },
  {
   "cell_type": "code",
   "execution_count": 13,
   "id": "76b194a9",
   "metadata": {},
   "outputs": [],
   "source": [
    "for tweet in twarc_client.search_all(\n",
    "    query,\n",
    "    start_time=start,\n",
    "    end_time=end):\n",
    "    tweets.append(tweet)\n",
    "    \n",
    "df = pd.json_normalize(tweets, record_path=['data']) \n",
    "\n",
    "df.to_csv(filename, index=False)"
   ]
  }
 ],
 "metadata": {
  "kernelspec": {
   "display_name": "Python 3 (ipykernel)",
   "language": "python",
   "name": "python3"
  },
  "language_info": {
   "codemirror_mode": {
    "name": "ipython",
    "version": 3
   },
   "file_extension": ".py",
   "mimetype": "text/x-python",
   "name": "python",
   "nbconvert_exporter": "python",
   "pygments_lexer": "ipython3",
   "version": "3.9.13"
  }
 },
 "nbformat": 4,
 "nbformat_minor": 5
}
